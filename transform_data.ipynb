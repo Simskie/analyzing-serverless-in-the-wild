{
 "cells": [
  {
   "cell_type": "code",
   "execution_count": 1,
   "metadata": {},
   "outputs": [],
   "source": [
    "import pandas as pd\n",
    "import numpy as np\n",
    "\n",
    "import matplotlib.pyplot as plt\n",
    "from scipy.stats import lognorm\n",
    "from pathlib import Path\n",
    "import sys\n",
    "import os\n",
    "\n",
    "import pmdarima as pm\n",
    "from pmdarima.model_selection import train_test_split\n",
    "\n",
    "import process_data\n",
    "import source.utilities as utilities \n",
    "import source.policy as policy"
   ]
  },
  {
   "cell_type": "code",
   "execution_count": null,
   "metadata": {},
   "outputs": [],
   "source": [
    "def process_files(num_chunks):\n",
    "    import process_data\n",
    "    days = range(1, 13)\n",
    "    minute = 1440\n",
    "\n",
    "    hashapp_lists = [set() for _ in range(num_chunks)]\n",
    "\n",
    "    for i, day in enumerate(days):\n",
    "        data = process_data.Dataset(range(day, day+1), range(day, day+1), minute)\n",
    "        data = data.df_grouped_by_app.sum().reset_index()\n",
    "        columns_to_select = ['HashApp'] + list(data.loc[:, '1':'1440'].columns)\n",
    "        data = data[columns_to_select]\n",
    "\n",
    "        n_rows = len(data)\n",
    "\n",
    "        chunk_sizes = [n_rows // num_chunks] * num_chunks\n",
    "        for idx in range(n_rows % num_chunks):\n",
    "            chunk_sizes[idx] += 1\n",
    "\n",
    "        start_idx = 0\n",
    "        for chunk_idx, chunk_size in enumerate(chunk_sizes):\n",
    "            end_idx = start_idx + chunk_size\n",
    "            chunk = data.iloc[start_idx:end_idx]\n",
    "\n",
    "            hashapp_values = set(chunk['HashApp'])\n",
    "\n",
    "            if i == 0:\n",
    "                hashapp_lists[chunk_idx] = hashapp_values\n",
    "            else:\n",
    "                hashapp_lists[chunk_idx] &= hashapp_values\n",
    "\n",
    "            start_idx = end_idx\n",
    "\n",
    "    return hashapp_lists\n"
   ]
  },
  {
   "cell_type": "code",
   "execution_count": null,
   "metadata": {},
   "outputs": [],
   "source": [
    "def process_and_concat_files(common_hashapps):\n",
    "\n",
    "    os.makedirs('chunk_invocation_data', exist_ok=True)\n",
    "\n",
    "    days = range(1, 13)\n",
    "    minute = 1440\n",
    "    num_chunks = len(common_hashapps)\n",
    "    \n",
    "    for day in days:\n",
    "        data = process_data.Dataset(range(day, day+1), range(day, day+1), minute)\n",
    "        data = data.df_grouped_by_app.sum().reset_index()\n",
    "        columns_to_select = ['HashApp'] + list(data.loc[:, '1':'1440'].columns)\n",
    "        data = data[columns_to_select]\n",
    "        \n",
    "        n_rows = len(data)\n",
    "        \n",
    "        chunk_sizes = [n_rows // num_chunks] * num_chunks\n",
    "        for idx in range(n_rows % num_chunks):\n",
    "            chunk_sizes[idx] += 1\n",
    "\n",
    "        start_idx = 0\n",
    "        for chunk_idx, chunk_size in enumerate(chunk_sizes):\n",
    "            end_idx = start_idx + chunk_size\n",
    "            chunk = data.iloc[start_idx:end_idx]\n",
    "\n",
    "            hashapps_in_chunk = sorted(common_hashapps[chunk_idx])\n",
    "            chunk = chunk[chunk['HashApp'].isin(hashapps_in_chunk)]\n",
    "\n",
    "            chunk = chunk.set_index('HashApp').loc[hashapps_in_chunk].reset_index()\n",
    "\n",
    "            col_mapping = {str(i): f'day{day}_{i}' for i in range(1, 1441)}\n",
    "            chunk.rename(columns=col_mapping, inplace=True)\n",
    "\n",
    "            chunk.set_index('HashApp', inplace=True)\n",
    "\n",
    "            chunk_filename = f'chunk_{chunk_idx+1}.csv'\n",
    "            file_path = os.path.join('chunk_invocation_data', chunk_filename)\n",
    "\n",
    "            if day == 1:\n",
    "                chunk.to_csv(file_path)\n",
    "            else:\n",
    "                if os.path.exists(file_path):\n",
    "                    existing_chunk = pd.read_csv(file_path, index_col='HashApp')\n",
    "\n",
    "                    combined_chunk = pd.concat([existing_chunk, chunk], axis=1)\n",
    "\n",
    "                    combined_chunk.to_csv(file_path)\n",
    "                else:\n",
    "                    chunk.to_csv(file_path)\n",
    "\n",
    "            start_idx = end_idx\n"
   ]
  },
  {
   "cell_type": "code",
   "execution_count": null,
   "metadata": {},
   "outputs": [
    {
     "name": "stdout",
     "output_type": "stream",
     "text": [
      "Parsing azurefunctions-dataset2019, days: 1, minutes: 1440\n"
     ]
    },
    {
     "name": "stderr",
     "output_type": "stream",
     "text": [
      "Parsing Data: 100%|██████████| 1/1 [00:02<00:00,  2.77s/it]\n"
     ]
    },
    {
     "name": "stdout",
     "output_type": "stream",
     "text": [
      "Parsing azurefunctions-dataset2019, days: 2, minutes: 1440\n"
     ]
    },
    {
     "name": "stderr",
     "output_type": "stream",
     "text": [
      "Parsing Data: 100%|██████████| 1/1 [00:02<00:00,  2.69s/it]\n"
     ]
    },
    {
     "name": "stdout",
     "output_type": "stream",
     "text": [
      "Parsing azurefunctions-dataset2019, days: 3, minutes: 1440\n"
     ]
    },
    {
     "name": "stderr",
     "output_type": "stream",
     "text": [
      "Parsing Data: 100%|██████████| 1/1 [00:02<00:00,  2.72s/it]\n"
     ]
    },
    {
     "name": "stdout",
     "output_type": "stream",
     "text": [
      "Parsing azurefunctions-dataset2019, days: 4, minutes: 1440\n"
     ]
    },
    {
     "name": "stderr",
     "output_type": "stream",
     "text": [
      "Parsing Data: 100%|██████████| 1/1 [00:02<00:00,  2.69s/it]\n"
     ]
    },
    {
     "name": "stdout",
     "output_type": "stream",
     "text": [
      "Parsing azurefunctions-dataset2019, days: 5, minutes: 1440\n"
     ]
    },
    {
     "name": "stderr",
     "output_type": "stream",
     "text": [
      "Parsing Data: 100%|██████████| 1/1 [00:02<00:00,  2.98s/it]\n"
     ]
    },
    {
     "name": "stdout",
     "output_type": "stream",
     "text": [
      "Parsing azurefunctions-dataset2019, days: 6, minutes: 1440\n"
     ]
    },
    {
     "name": "stderr",
     "output_type": "stream",
     "text": [
      "Parsing Data: 100%|██████████| 1/1 [00:02<00:00,  2.23s/it]\n"
     ]
    },
    {
     "name": "stdout",
     "output_type": "stream",
     "text": [
      "Parsing azurefunctions-dataset2019, days: 7, minutes: 1440\n"
     ]
    },
    {
     "name": "stderr",
     "output_type": "stream",
     "text": [
      "Parsing Data: 100%|██████████| 1/1 [00:02<00:00,  2.05s/it]\n"
     ]
    },
    {
     "name": "stdout",
     "output_type": "stream",
     "text": [
      "Parsing azurefunctions-dataset2019, days: 8, minutes: 1440\n"
     ]
    },
    {
     "name": "stderr",
     "output_type": "stream",
     "text": [
      "Parsing Data: 100%|██████████| 1/1 [00:02<00:00,  2.71s/it]\n"
     ]
    },
    {
     "name": "stdout",
     "output_type": "stream",
     "text": [
      "Parsing azurefunctions-dataset2019, days: 9, minutes: 1440\n"
     ]
    },
    {
     "name": "stderr",
     "output_type": "stream",
     "text": [
      "Parsing Data: 100%|██████████| 1/1 [00:02<00:00,  2.72s/it]\n"
     ]
    },
    {
     "name": "stdout",
     "output_type": "stream",
     "text": [
      "Parsing azurefunctions-dataset2019, days: 10, minutes: 1440\n"
     ]
    },
    {
     "name": "stderr",
     "output_type": "stream",
     "text": [
      "Parsing Data: 100%|██████████| 1/1 [00:02<00:00,  2.76s/it]\n"
     ]
    },
    {
     "name": "stdout",
     "output_type": "stream",
     "text": [
      "Parsing azurefunctions-dataset2019, days: 11, minutes: 1440\n"
     ]
    },
    {
     "name": "stderr",
     "output_type": "stream",
     "text": [
      "Parsing Data: 100%|██████████| 1/1 [00:02<00:00,  2.72s/it]\n"
     ]
    },
    {
     "name": "stdout",
     "output_type": "stream",
     "text": [
      "Parsing azurefunctions-dataset2019, days: 12, minutes: 1440\n"
     ]
    },
    {
     "name": "stderr",
     "output_type": "stream",
     "text": [
      "Parsing Data: 100%|██████████| 1/1 [00:02<00:00,  2.77s/it]\n"
     ]
    }
   ],
   "source": [
    "num_chunks = 8\n",
    "common_hashapps = process_files(num_chunks)"
   ]
  },
  {
   "cell_type": "code",
   "execution_count": 5,
   "metadata": {},
   "outputs": [
    {
     "name": "stdout",
     "output_type": "stream",
     "text": [
      "Parsing azurefunctions-dataset2019, days: 1, minutes: 1440\n"
     ]
    },
    {
     "name": "stderr",
     "output_type": "stream",
     "text": [
      "Parsing Data: 100%|██████████| 1/1 [00:02<00:00,  2.62s/it]\n"
     ]
    },
    {
     "name": "stdout",
     "output_type": "stream",
     "text": [
      "Parsing azurefunctions-dataset2019, days: 2, minutes: 1440\n"
     ]
    },
    {
     "name": "stderr",
     "output_type": "stream",
     "text": [
      "Parsing Data: 100%|██████████| 1/1 [00:02<00:00,  2.72s/it]\n"
     ]
    },
    {
     "name": "stdout",
     "output_type": "stream",
     "text": [
      "Parsing azurefunctions-dataset2019, days: 3, minutes: 1440\n"
     ]
    },
    {
     "name": "stderr",
     "output_type": "stream",
     "text": [
      "Parsing Data: 100%|██████████| 1/1 [00:02<00:00,  2.68s/it]\n"
     ]
    },
    {
     "name": "stdout",
     "output_type": "stream",
     "text": [
      "Parsing azurefunctions-dataset2019, days: 4, minutes: 1440\n"
     ]
    },
    {
     "name": "stderr",
     "output_type": "stream",
     "text": [
      "Parsing Data: 100%|██████████| 1/1 [00:02<00:00,  2.67s/it]\n"
     ]
    },
    {
     "name": "stdout",
     "output_type": "stream",
     "text": [
      "Parsing azurefunctions-dataset2019, days: 5, minutes: 1440\n"
     ]
    },
    {
     "name": "stderr",
     "output_type": "stream",
     "text": [
      "Parsing Data: 100%|██████████| 1/1 [00:02<00:00,  2.64s/it]\n"
     ]
    },
    {
     "name": "stdout",
     "output_type": "stream",
     "text": [
      "Parsing azurefunctions-dataset2019, days: 6, minutes: 1440\n"
     ]
    },
    {
     "name": "stderr",
     "output_type": "stream",
     "text": [
      "Parsing Data: 100%|██████████| 1/1 [00:02<00:00,  2.12s/it]\n"
     ]
    },
    {
     "name": "stdout",
     "output_type": "stream",
     "text": [
      "Parsing azurefunctions-dataset2019, days: 7, minutes: 1440\n"
     ]
    },
    {
     "name": "stderr",
     "output_type": "stream",
     "text": [
      "Parsing Data: 100%|██████████| 1/1 [00:02<00:00,  2.19s/it]\n"
     ]
    },
    {
     "name": "stdout",
     "output_type": "stream",
     "text": [
      "Parsing azurefunctions-dataset2019, days: 8, minutes: 1440\n"
     ]
    },
    {
     "name": "stderr",
     "output_type": "stream",
     "text": [
      "Parsing Data: 100%|██████████| 1/1 [00:02<00:00,  2.74s/it]\n"
     ]
    },
    {
     "name": "stdout",
     "output_type": "stream",
     "text": [
      "Parsing azurefunctions-dataset2019, days: 9, minutes: 1440\n"
     ]
    },
    {
     "name": "stderr",
     "output_type": "stream",
     "text": [
      "Parsing Data: 100%|██████████| 1/1 [00:02<00:00,  2.76s/it]\n"
     ]
    },
    {
     "name": "stdout",
     "output_type": "stream",
     "text": [
      "Parsing azurefunctions-dataset2019, days: 10, minutes: 1440\n"
     ]
    },
    {
     "name": "stderr",
     "output_type": "stream",
     "text": [
      "Parsing Data: 100%|██████████| 1/1 [00:02<00:00,  2.79s/it]\n"
     ]
    },
    {
     "name": "stdout",
     "output_type": "stream",
     "text": [
      "Parsing azurefunctions-dataset2019, days: 11, minutes: 1440\n"
     ]
    },
    {
     "name": "stderr",
     "output_type": "stream",
     "text": [
      "Parsing Data: 100%|██████████| 1/1 [00:02<00:00,  3.00s/it]\n"
     ]
    },
    {
     "name": "stdout",
     "output_type": "stream",
     "text": [
      "Parsing azurefunctions-dataset2019, days: 12, minutes: 1440\n"
     ]
    },
    {
     "name": "stderr",
     "output_type": "stream",
     "text": [
      "Parsing Data: 100%|██████████| 1/1 [00:03<00:00,  3.22s/it]\n"
     ]
    }
   ],
   "source": [
    "process_and_concat_files(common_hashapps)"
   ]
  },
  {
   "cell_type": "code",
   "execution_count": null,
   "metadata": {},
   "outputs": [],
   "source": []
  }
 ],
 "metadata": {
  "kernelspec": {
   "display_name": "test_env",
   "language": "python",
   "name": "python3"
  },
  "language_info": {
   "codemirror_mode": {
    "name": "ipython",
    "version": 3
   },
   "file_extension": ".py",
   "mimetype": "text/x-python",
   "name": "python",
   "nbconvert_exporter": "python",
   "pygments_lexer": "ipython3",
   "version": "3.10.12"
  }
 },
 "nbformat": 4,
 "nbformat_minor": 2
}
